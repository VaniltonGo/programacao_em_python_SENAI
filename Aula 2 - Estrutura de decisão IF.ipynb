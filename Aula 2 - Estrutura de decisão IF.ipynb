{
 "cells": [
  {
   "cell_type": "markdown",
   "id": "25dc618e",
   "metadata": {},
   "source": [
    "Exercício 01 – Crie uma variável chamada \"idade\" e atribua um valor inteiro a ela. Verifique se a idade é maior ou igual a 18 e imprima \"Maior de idade\" ou \"Menor de idade\" de acordo com a condição."
   ]
  },
  {
   "cell_type": "code",
   "execution_count": 2,
   "id": "b9822702",
   "metadata": {},
   "outputs": [
    {
     "name": "stdout",
     "output_type": "stream",
     "text": [
      "Informe sua idade: 25\n",
      "Maior de idade\n"
     ]
    }
   ],
   "source": [
    "idade = input('Informe sua idade: ')\n",
    "idade = int(idade)\n",
    "\n",
    "if idade < 18:\n",
    "    print('Menor de idade')\n",
    "else:\n",
    "    print('Maior de idade')"
   ]
  },
  {
   "cell_type": "markdown",
   "id": "dfabcf59",
   "metadata": {},
   "source": [
    "Exercício 02 - Crie uma variável chamada \"número\" e atribua um valor inteiro a ela. Verifique se o número é positivo, negativo ou zero e imprima a mensagem \n",
    "correspondente."
   ]
  },
  {
   "cell_type": "code",
   "execution_count": 14,
   "id": "24d90e29",
   "metadata": {},
   "outputs": [
    {
     "name": "stdout",
     "output_type": "stream",
     "text": [
      "Informe um valor numérico: 35\n",
      "Numero Positivo\n"
     ]
    }
   ],
   "source": [
    "numero = input('Informe um valor numérico: ')\n",
    "numero = int(numero)\n",
    "\n",
    "if numero > 0:\n",
    "    print('Numero Positivo')\n",
    "elif numero <0:\n",
    "    print('Numero negativo')\n",
    "else:\n",
    "    print('Nulo')"
   ]
  },
  {
   "cell_type": "markdown",
   "id": "14e9ceaf",
   "metadata": {},
   "source": [
    "Exercício 03 - Crie duas variáveis, \"nota1\" e \"nota2\", e atribua valores numéricos a elas. Verifique se a média das notas é maior ou igual a 7 e imprima \"Aprovado\" ou \"Reprovado\" de acordo com a condição."
   ]
  },
  {
   "cell_type": "code",
   "execution_count": 35,
   "id": "0d093835",
   "metadata": {},
   "outputs": [
    {
     "name": "stdout",
     "output_type": "stream",
     "text": [
      "Digite a 1º nota: 21\n",
      "Digite a 2º nota: 2\n",
      "Aprovado! Sua média final foi 11.5, parabéns.\n"
     ]
    }
   ],
   "source": [
    "nota1 = input('Digite a 1º nota: ') \n",
    "nota1 =int(nota1)\n",
    "nota2 = input('Digite a 2º nota: ') \n",
    "nota2 = int(nota2)\n",
    "\n",
    "media = (nota1 + nota2) / 2\n",
    "\n",
    "if media >=7:\n",
    "    print(f'Aprovado! Sua média final foi {media}, parabéns.')\n",
    "else:\n",
    "    print(f'Reprovado! Sua média final foi {media}, estude mais ano que vem.')\n"
   ]
  },
  {
   "cell_type": "code",
   "execution_count": 38,
   "id": "1b124eb2",
   "metadata": {},
   "outputs": [
    {
     "name": "stdout",
     "output_type": "stream",
     "text": [
      "Informe sua idade: 30\n",
      "Idade válida\n"
     ]
    }
   ],
   "source": [
    "# Exercício 04 - Crie uma variável chamada \"idade\" e atribua um valor inteiro \n",
    "# a ela. Verifique se a idade está dentro do intervalo de 18 a 30 (inclusive) \n",
    "# e imprima a mensagem Idade válida ou Idade inválida de acordo com a condição.\n",
    "\n",
    "idade = int(input('Informe sua idade: '))\n",
    "\n",
    "\n",
    "if idade >= 18 and idade <=30:\n",
    "    print('Idade válida')\n",
    "else:\n",
    "    print('Idade inválida')\n"
   ]
  },
  {
   "cell_type": "code",
   "execution_count": 46,
   "id": "ce47763e",
   "metadata": {},
   "outputs": [
    {
     "name": "stdout",
     "output_type": "stream",
     "text": [
      "Insira um número: 15\n",
      "Esse número é \"Impar\"\n"
     ]
    }
   ],
   "source": [
    "# Exercício 05 - Crie uma variável chamada \"numero\" e atribua um valor inteiro a\n",
    "# ela. Verifique se o número é \"par\" ou \"ímpar\" e imprima a mensagem correspondente.\n",
    "\n",
    "num =  int(input('Insira um número: '))\n",
    "\n",
    "if num % 2 == 0:\n",
    "    print('Esse número é \"Par\"')\n",
    "else:\n",
    "    print('Esse número é \"Impar\"')\n",
    "           \n"
   ]
  },
  {
   "cell_type": "code",
   "execution_count": 78,
   "id": "a6d32b3c",
   "metadata": {},
   "outputs": [
    {
     "name": "stdout",
     "output_type": "stream",
     "text": [
      "Insira um número inteiro: 5\n",
      "De madrugada\n"
     ]
    }
   ],
   "source": [
    "# Exercício 06 - Crie uma variável chamada \"horario\" e atribua um valor inteiro \n",
    "# representando a hora do dia (em formato 24 horas). Verifique se o horário está\n",
    "# dentro do período da manhã (das 6h às 12h), da tarde (das 12h às 18h) ou da \n",
    "# noite (das 18h às 23h) e imprima a mensagem correspondente.\n",
    "\n",
    "horario = int(input('Insira um número inteiro: '))\n",
    "\n",
    "if horario >= 6 and horario <12:\n",
    "    print('Bom dia <3')\n",
    "elif horario >= 12 and horario <18:\n",
    "    print('Ótima tarde')\n",
    "elif horario >= 18 and horario <=23:  \n",
    "     print('Boa noite')\n",
    "elif horario >= 0 and horario <6:\n",
    "    print('De madrugada')\n",
    "else:\n",
    "    print('Horário Invalido')"
   ]
  },
  {
   "cell_type": "code",
   "execution_count": 87,
   "id": "1924dd7d",
   "metadata": {},
   "outputs": [
    {
     "name": "stdout",
     "output_type": "stream",
     "text": [
      "Digite seu peso: 49.5\n",
      "Peso inválido\n"
     ]
    }
   ],
   "source": [
    "# Exercício 07 - Crie uma variável chamada \"peso\" e atribua um valor numérico a \n",
    "# ela. Verifique se o peso está dentro do intervalo de 50 a 100 (inclusive) e \n",
    "# imprima a mensagem \"Peso válido\" ou \"Peso inválido\" de acordo com a condição.\n",
    "\n",
    "peso = float (input('Digite seu peso: '))\n",
    "\n",
    "if peso >=50 and peso <=100:\n",
    "    print('Peso Válido')\n",
    "else:\n",
    "    print('Peso inválido')\n",
    "\n"
   ]
  },
  {
   "cell_type": "code",
   "execution_count": 91,
   "id": "389f41d2",
   "metadata": {},
   "outputs": [
    {
     "name": "stdout",
     "output_type": "stream",
     "text": [
      "Digite um número inteiro: 90\n",
      "O número 90 é múltiplo de 3 e de 5 ao mesmo tempo\n"
     ]
    }
   ],
   "source": [
    "#Exercício 08 - Crie uma variável chamada \"numero\" e atribua um \n",
    "# valor inteiro a ela. Verifique se o número é múltiplo de 3 e de 5 ao mesmo \n",
    "# tempo e imprima a mensagem correspondente.\n",
    "\n",
    "num = int(input('Digite um número inteiro: '))\n",
    "\n",
    "if num % 3 == 0 and num % 5 ==0:\n",
    "    print(f'O número {num} é múltiplo de 3 e de 5 ao mesmo tempo')\n",
    "\n",
    "else:\n",
    "     print(f'O número {num} NÃO é múltiplo de 3 e de 5 ao mesmo tempo')"
   ]
  },
  {
   "cell_type": "code",
   "execution_count": 110,
   "id": "5805b6d6",
   "metadata": {},
   "outputs": [
    {
     "name": "stdout",
     "output_type": "stream",
     "text": [
      "Digite o ano: 2004\n",
      "Ano bissexto\n"
     ]
    }
   ],
   "source": [
    "# Exercício 09 - Crie uma variável chamada \"ano\" e atribua um valor inteiro \n",
    "# representando um ano. Verifique se o ano é bissexto (divisível por 4, mas \n",
    "# não por 100, exceto se for divisível por 400) e imprima a mensagem \n",
    "# correspondente.\n",
    "\n",
    "ano = int(input('Digite o ano: '))\n",
    "if (ano % 4 == 0 and ano % 100 != 0) or (ano % 400 == 0):\n",
    "    print('Ano bissexto')\n",
    "else:\n",
    "    print('O ano NÃO é bissexto')\n",
    "           "
   ]
  },
  {
   "cell_type": "code",
   "execution_count": 120,
   "id": "8af67c57",
   "metadata": {},
   "outputs": [
    {
     "name": "stdout",
     "output_type": "stream",
     "text": [
      "Digite o salário: 1000\n",
      "O Salário fora da faixa\n"
     ]
    }
   ],
   "source": [
    "# Exercício 10 - Crie uma variável chamada \"salario\" e atribua um valor numérico \n",
    "# a ela. Verifique se o salário é maior do que 1000 e menor do que 2000 ao mesmo\n",
    "# tempo e imprima a mensagem correspondente.\n",
    "\n",
    "salario = float(input('Digite o salário: '))\n",
    "\n",
    "if salario > 1000 and salario < 2000:\n",
    "    print ('Salário dentro da faixa especificada')\n",
    "else:\n",
    "    print('Salário fora da faixa')\n"
   ]
  },
  {
   "cell_type": "code",
   "execution_count": 129,
   "id": "34401f59",
   "metadata": {},
   "outputs": [
    {
     "name": "stdout",
     "output_type": "stream",
     "text": [
      "Digite o 1º número 10\n",
      "Digite o 2º número 50\n",
      "50\n"
     ]
    }
   ],
   "source": [
    "# Exercício 11 - Faça um Programa que peça dois números e imprima o maior deles.\n",
    "\n",
    "num1 = int(input('Digite o 1º número '))\n",
    "num2 = int(input('Digite o 2º número '))\n",
    "           \n",
    "if num1>num2:\n",
    "    print (num1)\n",
    "else: \n",
    "    print (num2)    \n",
    "    \n"
   ]
  },
  {
   "cell_type": "code",
   "execution_count": 137,
   "id": "ead38516",
   "metadata": {},
   "outputs": [
    {
     "name": "stdout",
     "output_type": "stream",
     "text": [
      "Digite um valor: -1\n",
      "Numero negativo\n"
     ]
    }
   ],
   "source": [
    "# Exercício 12 - Faça um Programa que peça um valor e mostre na tela se o valor é \n",
    "# positivo ou negativo.\n",
    "\n",
    "valor= int(input('Digite um valor: '))\n",
    "\n",
    "if valor >0: \n",
    "      print('Numero Positivo')\n",
    "elif valor <0:\n",
    "    print('Numero negativo')\n",
    "else:\n",
    "    print('Nulo')\n",
    "        \n",
    "\n"
   ]
  },
  {
   "cell_type": "code",
   "execution_count": 147,
   "id": "e16eca2a",
   "metadata": {},
   "outputs": [
    {
     "name": "stdout",
     "output_type": "stream",
     "text": [
      "Digite a  letra correspondênte ao seu sexo (F/M): F\n",
      "F - Feminino\n"
     ]
    }
   ],
   "source": [
    "# Exercício 13 - Faça um Programa que verifique se uma letra digitada é \n",
    "# \"F\" ou \"M\". Conforme a letra escrever: F - Feminino, M - Masculino, Sexo \n",
    "# Inválido.\n",
    "\n",
    "\n",
    "letra = str(input('Digite a  letra correspondênte ao seu sexo (F/M): '))\n",
    "\n",
    "if letra == \"F\" or letra == \"f\":\n",
    "    print(\"F - Feminino\")\n",
    "elif letra == \"M\" or letra == \"m\":\n",
    "    print(\"M - Masculino\")\n",
    "else:\n",
    "    print(\"Sexo Inválido\")"
   ]
  },
  {
   "cell_type": "code",
   "execution_count": 97,
   "id": "f578f6df",
   "metadata": {},
   "outputs": [],
   "source": [
    "# Exercício 14 - Faça um Programa que verifique se uma letra digitada é vogal \n",
    "# ou consoante.\n",
    "\n",
    "if sexo ==f: or sexo ==m:\n",
    "     # print('Feminino')\n",
    "elif sexo ==m:\n",
    "    print('Masculino')\n",
    "else:\n",
    "    print('Sexo inválido')\n"
   ]
  },
  {
   "cell_type": "code",
   "execution_count": 98,
   "id": "afce5bc0",
   "metadata": {},
   "outputs": [],
   "source": [
    "# Exercício 15 - Faça um programa para a leitura de duas notas parciais de um \n",
    "# aluno. O programa deve calcular a média alcançada por aluno e apresentar:\n",
    "#• A mensagem \"Aprovado\", se a média alcançada for maior ou igual a sete;\n",
    "#• A mensagem \"Reprovado\", se a média for menor do que sete;\n",
    "#• A mensagem \"Aprovado com Distinção\", se a média for igual a dez.\n",
    "\n",
    "\n"
   ]
  },
  {
   "cell_type": "code",
   "execution_count": null,
   "id": "52623a34",
   "metadata": {},
   "outputs": [],
   "source": []
  },
  {
   "cell_type": "code",
   "execution_count": null,
   "id": "8f0f5dcf",
   "metadata": {},
   "outputs": [],
   "source": []
  }
 ],
 "metadata": {
  "kernelspec": {
   "display_name": "Python 3 (ipykernel)",
   "language": "python",
   "name": "python3"
  },
  "language_info": {
   "codemirror_mode": {
    "name": "ipython",
    "version": 3
   },
   "file_extension": ".py",
   "mimetype": "text/x-python",
   "name": "python",
   "nbconvert_exporter": "python",
   "pygments_lexer": "ipython3",
   "version": "3.10.9"
  }
 },
 "nbformat": 4,
 "nbformat_minor": 5
}
