{
 "cells": [
  {
   "cell_type": "markdown",
   "id": "d9f9e1f1",
   "metadata": {},
   "source": [
    "Exercício 01 – Crie um programa para receber dois valores e em seguida, exiba o valor \n",
    "da soma."
   ]
  },
  {
   "cell_type": "code",
   "execution_count": 2,
   "id": "79496b39",
   "metadata": {},
   "outputs": [
    {
     "name": "stdout",
     "output_type": "stream",
     "text": [
      "40\n"
     ]
    }
   ],
   "source": [
    "valor1 = 10\n",
    "valor2 = 30\n",
    "soma = valor1 + valor2\n",
    "print(soma)"
   ]
  },
  {
   "cell_type": "markdown",
   "id": "b4405eb8",
   "metadata": {},
   "source": [
    "Exercício 02 – Crie um programa para receber dois valores e em seguida, exiba o valor \n",
    "da diferença entre eles."
   ]
  },
  {
   "cell_type": "code",
   "execution_count": 5,
   "id": "8a22623c",
   "metadata": {},
   "outputs": [
    {
     "name": "stdout",
     "output_type": "stream",
     "text": [
      "5\n"
     ]
    }
   ],
   "source": [
    "valor1 = 10\n",
    "valor2 = 5\n",
    "diferenca = valor1 - valor2\n",
    "print(diferenca)"
   ]
  },
  {
   "cell_type": "markdown",
   "id": "df7f2b86",
   "metadata": {},
   "source": [
    "Exercício 03 – Crie um programa para receber dois valores e em seguida, exiba o \n",
    "produto entre eles.\n"
   ]
  },
  {
   "cell_type": "code",
   "execution_count": null,
   "id": "26632832",
   "metadata": {},
   "outputs": [],
   "source": [
    "valor1 = 10\n",
    "valor2 = 5\n",
    "produto = valor1 * valor2\n",
    "print('O resultado da multiplicação é:',produto)\n"
   ]
  },
  {
   "cell_type": "markdown",
   "id": "3f54ebae",
   "metadata": {},
   "source": [
    "Exercício 03 – Crie um programa para receber dois valores e em seguida, exiba o \n",
    "produto entre eles.\n"
   ]
  },
  {
   "cell_type": "code",
   "execution_count": null,
   "id": "e29c22a8",
   "metadata": {},
   "outputs": [],
   "source": [
    "valor1 = 10\n",
    "valor = 5\n",
    "# cálculo de divisão\n",
    "quociente = valor1 / valor2\n",
    "\n",
    "# Cálculo do resto da divisão\n",
    "\n",
    "resto = valor1 % valor2\n",
    "\n",
    "print('O resultado da divisão é:',quociente)\n",
    "print('O resto da divisão é:',resto)"
   ]
  },
  {
   "cell_type": "markdown",
   "id": "e15a149a",
   "metadata": {},
   "source": [
    "Exercício 10 - Faça um Programa que converta metros para centímetros."
   ]
  },
  {
   "cell_type": "code",
   "execution_count": 35,
   "id": "31ea9f87",
   "metadata": {},
   "outputs": [
    {
     "name": "stdout",
     "output_type": "stream",
     "text": [
      "Digite um valor em metro para converter em centimetro. 5\n",
      "500\n"
     ]
    }
   ],
   "source": [
    "# Solicitar ao usuário um valor em metros\n",
    "\n",
    "metros = input('Digite um valor em metro para converter em centimetro. ')\n",
    "\n",
    "metros = int(metros)\n",
    "type =  (metros)\n",
    "\n",
    "\n",
    "centimetros =  metros * 100\n",
    "\n",
    "print(centimetros)\n"
   ]
  },
  {
   "cell_type": "markdown",
   "id": "7ec36c06",
   "metadata": {},
   "source": [
    "Exercício 11 - Faça um Programa que peça o raio de um círculo, calcule e mostre sua \n",
    "área.\n"
   ]
  },
  {
   "cell_type": "code",
   "execution_count": 47,
   "id": "62cc70c2",
   "metadata": {},
   "outputs": [
    {
     "name": "stdout",
     "output_type": "stream",
     "text": [
      "Informe o do raio do circulo 10\n",
      "A área do círculo é: 314.0\n",
      "3.141592653589793\n"
     ]
    }
   ],
   "source": [
    "# Solicitar ao usuário um valor para calcular a área\n",
    "import math\n",
    "\n",
    "raio = input('Informe o do raio do circulo ')\n",
    "raio = int(raio)\n",
    "\n",
    "area = 3.14 * raio ** 2\n",
    "print('A área do círculo é:',area)\n",
    "print(math.pi)\n"
   ]
  },
  {
   "cell_type": "markdown",
   "id": "00720ba1",
   "metadata": {},
   "source": [
    "Exercício 11 - Faça um Programa que peça o raio de um círculo, calcule e mostre sua \n",
    "área.\n"
   ]
  },
  {
   "cell_type": "code",
   "execution_count": 33,
   "id": "9c8296c3",
   "metadata": {},
   "outputs": [
    {
     "name": "stdout",
     "output_type": "stream",
     "text": [
      "Informe o do raio do circulo  10\n",
      "A área do círculo é: 314.15927\n"
     ]
    }
   ],
   "source": [
    "# Solicitar ao usuário um valor para calcular a área\n",
    "import math\n",
    "\n",
    "raio = input('Informe o do raio do circulo  ')\n",
    "raio = float(raio) # número decimal\n",
    "\n",
    "pi = math.pi\n",
    "\n",
    "area = round (pi * raio ** 2, 5)\n",
    "print('A área do círculo é:',area)\n",
    "\n"
   ]
  },
  {
   "cell_type": "markdown",
   "id": "6e0ffb0f",
   "metadata": {},
   "source": [
    "Exercício 12 - Faça um Programa que calcule a área de um quadrado, em seguida \n",
    "mostre o dobro desta área para o usuário."
   ]
  },
  {
   "cell_type": "code",
   "execution_count": 61,
   "id": "57523cca",
   "metadata": {},
   "outputs": [
    {
     "name": "stdout",
     "output_type": "stream",
     "text": [
      "Digite a altura do quadrado em metros 5\n",
      "O lado do quadrado é  10.0 mm\n",
      "O área do quadrado é  100.0 mm²\n",
      "O dobro da área é  200.0 mm²\n"
     ]
    }
   ],
   "source": [
    "lado = input('Digite a altura do quadrado em metros ')\n",
    "lado = float(altura) # Converta para número decimal\n",
    "\n",
    "\n",
    "areaQuadrado = lado ** 2\n",
    "dobroArea = areaQuadrado * 2\n",
    "\n",
    "print ('O lado do quadrado é ',lado, 'mm')\n",
    "print ('O área do quadrado é ',areaQuadrado, 'mm²')\n",
    "print ('O dobro da área é ',dobroArea, 'mm²')\n"
   ]
  },
  {
   "cell_type": "markdown",
   "id": "a3ed5d3f",
   "metadata": {},
   "source": [
    "Exercício 13 - Faça um Programa que pergunte quanto você ganha por hora e o número de horas trabalhadas no mês. Calcule e mostre o total do seu salário no referido mês."
   ]
  },
  {
   "cell_type": "code",
   "execution_count": 74,
   "id": "efd81b0e",
   "metadata": {},
   "outputs": [
    {
     "name": "stdout",
     "output_type": "stream",
     "text": [
      "Digite o valor por hora 25\n",
      "Quantas horas você trabalhou? 3.5\n",
      "Recebendo um valor por hora de R$  25.0\n",
      "Tabalhando  3.5 Horas por mês \n",
      "O seu salário é de R$  87.5\n"
     ]
    }
   ],
   "source": [
    "ValorHora = input('Digite o valor por hora ')\n",
    "ValorHora = float (ValorHora)\n",
    "\n",
    "horaTrab = input ('Quantas horas você trabalhou? ')\n",
    "horaTrab = float(horaTrab)\n",
    "\n",
    "salarioMes =ValorHora  *  horaTrab\n",
    "\n",
    "print('Recebendo um valor por hora de R$ ', ValorHora)\n",
    "print('Tabalhando ', horaTrab, 'Horas por mês ')\n",
    "print('O seu salário é de R$ ', salarioMes)"
   ]
  },
  {
   "cell_type": "markdown",
   "id": "e83280c9",
   "metadata": {},
   "source": [
    "Exercício 14 - Faça um Programa que peça a temperatura em graus Fahrenheit, \n",
    "transforme e mostre a temperatura em graus Celsius."
   ]
  },
  {
   "cell_type": "code",
   "execution_count": 80,
   "id": "a703103b",
   "metadata": {},
   "outputs": [
    {
     "name": "stdout",
     "output_type": "stream",
     "text": [
      "Digite a temperatura em Fahrenheit: 32\n",
      "  valor em graus Fahrenheit de  32.0 requivale a  0.0 graus  celsius\n"
     ]
    }
   ],
   "source": [
    "\n",
    "tempF =  input('Digite a temperatura em Fahrenheit: ')\n",
    "tempF = float(tempF)\n",
    "\n",
    "tempC =  (tempF - 32) / 1.8\n",
    "\n",
    "print ('  valor em graus Fahrenheit de ', tempF, 'requivale a ', tempC, 'graus  celsius')"
   ]
  },
  {
   "cell_type": "markdown",
   "id": "27f1b293",
   "metadata": {},
   "source": [
    "Exercício 15 - Faça um Programa que peça a temperatura em graus Celsius, transforme \n",
    "e mostre em graus Fahrenheit.\n"
   ]
  },
  {
   "cell_type": "code",
   "execution_count": 81,
   "id": "66fabdef",
   "metadata": {},
   "outputs": [
    {
     "name": "stdout",
     "output_type": "stream",
     "text": [
      "Digite a temperatura em celsius: 32\n",
      "  valor de  32.0 na escala Celsius, equivale a  89.6 na escala  Fahrenheit\n"
     ]
    }
   ],
   "source": [
    "tempC = input('Digite a temperatura em celsius: ')\n",
    "tempC = float(tempC)\n",
    "\n",
    "tempF =  tempC * 1.8 + 32\n",
    "\n",
    "print ('  valor de ', tempC, 'na escala Celsius, equivale a ', tempF, 'na escala  Fahrenheit')"
   ]
  },
  {
   "cell_type": "markdown",
   "id": "a6e676dc",
   "metadata": {},
   "source": [
    "Exercício 16 - Faça um Programa que peça 2 números inteiros e um número real. \n",
    "Calcule e mostre:\n",
    "a) o produto do dobro do primeiro com metade do segundo.\n",
    "b) a soma do triplo do primeiro com o terceiro.\n",
    "c) o terceiro elevado ao cubo."
   ]
  },
  {
   "cell_type": "code",
   "execution_count": null,
   "id": "cc2596e8",
   "metadata": {},
   "outputs": [],
   "source": []
  }
 ],
 "metadata": {
  "kernelspec": {
   "display_name": "Python 3 (ipykernel)",
   "language": "python",
   "name": "python3"
  },
  "language_info": {
   "codemirror_mode": {
    "name": "ipython",
    "version": 3
   },
   "file_extension": ".py",
   "mimetype": "text/x-python",
   "name": "python",
   "nbconvert_exporter": "python",
   "pygments_lexer": "ipython3",
   "version": "3.10.9"
  }
 },
 "nbformat": 4,
 "nbformat_minor": 5
}
